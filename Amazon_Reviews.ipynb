{
 "cells": [
  {
   "cell_type": "markdown",
   "id": "fad8562a-9b68-479a-b1b5-8b2efc9e278c",
   "metadata": {},
   "source": [
    "# INTRODUCTION\n",
    "\n",
    "-  This project's goal is to perform a thorough investigation of Amazon sales transactions using an actual dataset. This dataset includes    detailed information such as order ID, purchase date, product type, amount purchased, order status, fulfillment method, sales channel, and transaction value. \n",
    "\n",
    "-  The major purpose is to gain real business insights that can help with strategic decision-making in areas such as sales performance,   product trends, consumer behavior, and operational efficiency."
   ]
  },
  {
   "cell_type": "markdown",
   "id": "fb39f17d-36fb-411c-8ada-754b75acfeaf",
   "metadata": {},
   "source": [
    "# Libraries \n",
    "\n",
    "1) Pandas            - Used for Data manipulation & analysis\n",
    "2) Numpy             - Used for Numerical computing, arrays, and matrix operations\n",
    "3) Seaborn           - Used for Statistical data visualization (built on top of Matplotlib)\n",
    "4) Matplotlib.pyplot - Used for Basic plotting (line, bar, scatter, etc.)"
   ]
  },
  {
   "cell_type": "code",
   "execution_count": 1,
   "id": "9ba09ce2-7e07-4c5a-9f32-5fced8a39632",
   "metadata": {},
   "outputs": [],
   "source": [
    "import pandas as pd\n",
    "import numpy as np\n",
    "import seaborn as sns\n",
    "import matplotlib.pyplot as plt"
   ]
  },
  {
   "cell_type": "markdown",
   "id": "63c26c17-df5b-4293-b298-bfe53b285f01",
   "metadata": {},
   "source": [
    "# Loading the dataset"
   ]
  },
  {
   "cell_type": "code",
   "execution_count": 2,
   "id": "934b18b2-f702-4a96-93fd-2d3f5189cfa8",
   "metadata": {},
   "outputs": [],
   "source": [
    "dt = pd.read_csv('Amazon Sale Report.csv', encoding='ISO-8859-1')"
   ]
  },
  {
   "cell_type": "markdown",
   "id": "c9490760-04b0-4950-a069-d3c7d7c8bf29",
   "metadata": {},
   "source": [
    "# dt.head()\n",
    "\n",
    "To check the 1st 5 rows of the dataset and chechk what all columns are present in the dataset."
   ]
  },
  {
   "cell_type": "code",
   "execution_count": 3,
   "id": "b0747f9b-47ad-4fb9-a20b-2615a01d5a3f",
   "metadata": {},
   "outputs": [
    {
     "data": {
      "text/html": [
       "<div>\n",
       "<style scoped>\n",
       "    .dataframe tbody tr th:only-of-type {\n",
       "        vertical-align: middle;\n",
       "    }\n",
       "\n",
       "    .dataframe tbody tr th {\n",
       "        vertical-align: top;\n",
       "    }\n",
       "\n",
       "    .dataframe thead th {\n",
       "        text-align: right;\n",
       "    }\n",
       "</style>\n",
       "<table border=\"1\" class=\"dataframe\">\n",
       "  <thead>\n",
       "    <tr style=\"text-align: right;\">\n",
       "      <th></th>\n",
       "      <th>index</th>\n",
       "      <th>Order ID</th>\n",
       "      <th>Date</th>\n",
       "      <th>Status</th>\n",
       "      <th>Fulfilment</th>\n",
       "      <th>Sales Channel</th>\n",
       "      <th>ship-service-level</th>\n",
       "      <th>Category</th>\n",
       "      <th>Size</th>\n",
       "      <th>Courier Status</th>\n",
       "      <th>...</th>\n",
       "      <th>currency</th>\n",
       "      <th>Amount</th>\n",
       "      <th>ship-city</th>\n",
       "      <th>ship-state</th>\n",
       "      <th>ship-postal-code</th>\n",
       "      <th>ship-country</th>\n",
       "      <th>B2B</th>\n",
       "      <th>fulfilled-by</th>\n",
       "      <th>New</th>\n",
       "      <th>PendingS</th>\n",
       "    </tr>\n",
       "  </thead>\n",
       "  <tbody>\n",
       "    <tr>\n",
       "      <th>0</th>\n",
       "      <td>0</td>\n",
       "      <td>405-8078784-5731545</td>\n",
       "      <td>04-30-22</td>\n",
       "      <td>Cancelled</td>\n",
       "      <td>Merchant</td>\n",
       "      <td>Amazon.in</td>\n",
       "      <td>Standard</td>\n",
       "      <td>T-shirt</td>\n",
       "      <td>S</td>\n",
       "      <td>On the Way</td>\n",
       "      <td>...</td>\n",
       "      <td>INR</td>\n",
       "      <td>647.62</td>\n",
       "      <td>MUMBAI</td>\n",
       "      <td>MAHARASHTRA</td>\n",
       "      <td>400081.0</td>\n",
       "      <td>IN</td>\n",
       "      <td>False</td>\n",
       "      <td>Easy Ship</td>\n",
       "      <td>NaN</td>\n",
       "      <td>NaN</td>\n",
       "    </tr>\n",
       "    <tr>\n",
       "      <th>1</th>\n",
       "      <td>1</td>\n",
       "      <td>171-9198151-1101146</td>\n",
       "      <td>04-30-22</td>\n",
       "      <td>Shipped - Delivered to Buyer</td>\n",
       "      <td>Merchant</td>\n",
       "      <td>Amazon.in</td>\n",
       "      <td>Standard</td>\n",
       "      <td>Shirt</td>\n",
       "      <td>3XL</td>\n",
       "      <td>Shipped</td>\n",
       "      <td>...</td>\n",
       "      <td>INR</td>\n",
       "      <td>406.00</td>\n",
       "      <td>BENGALURU</td>\n",
       "      <td>KARNATAKA</td>\n",
       "      <td>560085.0</td>\n",
       "      <td>IN</td>\n",
       "      <td>False</td>\n",
       "      <td>Easy Ship</td>\n",
       "      <td>NaN</td>\n",
       "      <td>NaN</td>\n",
       "    </tr>\n",
       "    <tr>\n",
       "      <th>2</th>\n",
       "      <td>2</td>\n",
       "      <td>404-0687676-7273146</td>\n",
       "      <td>04-30-22</td>\n",
       "      <td>Shipped</td>\n",
       "      <td>Amazon</td>\n",
       "      <td>Amazon.in</td>\n",
       "      <td>Expedited</td>\n",
       "      <td>Shirt</td>\n",
       "      <td>XL</td>\n",
       "      <td>Shipped</td>\n",
       "      <td>...</td>\n",
       "      <td>INR</td>\n",
       "      <td>329.00</td>\n",
       "      <td>NAVI MUMBAI</td>\n",
       "      <td>MAHARASHTRA</td>\n",
       "      <td>410210.0</td>\n",
       "      <td>IN</td>\n",
       "      <td>True</td>\n",
       "      <td>NaN</td>\n",
       "      <td>NaN</td>\n",
       "      <td>NaN</td>\n",
       "    </tr>\n",
       "    <tr>\n",
       "      <th>3</th>\n",
       "      <td>3</td>\n",
       "      <td>403-9615377-8133951</td>\n",
       "      <td>04-30-22</td>\n",
       "      <td>Cancelled</td>\n",
       "      <td>Merchant</td>\n",
       "      <td>Amazon.in</td>\n",
       "      <td>Standard</td>\n",
       "      <td>Blazzer</td>\n",
       "      <td>L</td>\n",
       "      <td>On the Way</td>\n",
       "      <td>...</td>\n",
       "      <td>INR</td>\n",
       "      <td>753.33</td>\n",
       "      <td>PUDUCHERRY</td>\n",
       "      <td>PUDUCHERRY</td>\n",
       "      <td>605008.0</td>\n",
       "      <td>IN</td>\n",
       "      <td>False</td>\n",
       "      <td>Easy Ship</td>\n",
       "      <td>NaN</td>\n",
       "      <td>NaN</td>\n",
       "    </tr>\n",
       "    <tr>\n",
       "      <th>4</th>\n",
       "      <td>4</td>\n",
       "      <td>407-1069790-7240320</td>\n",
       "      <td>04-30-22</td>\n",
       "      <td>Shipped</td>\n",
       "      <td>Amazon</td>\n",
       "      <td>Amazon.in</td>\n",
       "      <td>Expedited</td>\n",
       "      <td>Trousers</td>\n",
       "      <td>3XL</td>\n",
       "      <td>Shipped</td>\n",
       "      <td>...</td>\n",
       "      <td>INR</td>\n",
       "      <td>574.00</td>\n",
       "      <td>CHENNAI</td>\n",
       "      <td>TAMIL NADU</td>\n",
       "      <td>600073.0</td>\n",
       "      <td>IN</td>\n",
       "      <td>False</td>\n",
       "      <td>NaN</td>\n",
       "      <td>NaN</td>\n",
       "      <td>NaN</td>\n",
       "    </tr>\n",
       "  </tbody>\n",
       "</table>\n",
       "<p>5 rows × 21 columns</p>\n",
       "</div>"
      ],
      "text/plain": [
       "   index             Order ID      Date                        Status  \\\n",
       "0      0  405-8078784-5731545  04-30-22                     Cancelled   \n",
       "1      1  171-9198151-1101146  04-30-22  Shipped - Delivered to Buyer   \n",
       "2      2  404-0687676-7273146  04-30-22                       Shipped   \n",
       "3      3  403-9615377-8133951  04-30-22                     Cancelled   \n",
       "4      4  407-1069790-7240320  04-30-22                       Shipped   \n",
       "\n",
       "  Fulfilment Sales Channel ship-service-level  Category Size Courier Status  \\\n",
       "0   Merchant     Amazon.in           Standard   T-shirt    S     On the Way   \n",
       "1   Merchant     Amazon.in           Standard     Shirt  3XL        Shipped   \n",
       "2     Amazon     Amazon.in          Expedited     Shirt   XL        Shipped   \n",
       "3   Merchant     Amazon.in           Standard   Blazzer    L     On the Way   \n",
       "4     Amazon     Amazon.in          Expedited  Trousers  3XL        Shipped   \n",
       "\n",
       "   ...  currency  Amount    ship-city   ship-state ship-postal-code  \\\n",
       "0  ...       INR  647.62       MUMBAI  MAHARASHTRA         400081.0   \n",
       "1  ...       INR  406.00    BENGALURU    KARNATAKA         560085.0   \n",
       "2  ...       INR  329.00  NAVI MUMBAI  MAHARASHTRA         410210.0   \n",
       "3  ...       INR  753.33   PUDUCHERRY   PUDUCHERRY         605008.0   \n",
       "4  ...       INR  574.00      CHENNAI   TAMIL NADU         600073.0   \n",
       "\n",
       "   ship-country    B2B  fulfilled-by New  PendingS  \n",
       "0            IN  False     Easy Ship NaN       NaN  \n",
       "1            IN  False     Easy Ship NaN       NaN  \n",
       "2            IN   True           NaN NaN       NaN  \n",
       "3            IN  False     Easy Ship NaN       NaN  \n",
       "4            IN  False           NaN NaN       NaN  \n",
       "\n",
       "[5 rows x 21 columns]"
      ]
     },
     "execution_count": 3,
     "metadata": {},
     "output_type": "execute_result"
    }
   ],
   "source": [
    "dt.head()"
   ]
  },
  {
   "cell_type": "markdown",
   "id": "02939ed3-adc8-4ec0-94ec-a182de0782b3",
   "metadata": {},
   "source": [
    "# dt.info\n",
    "\n",
    "To get the information about the columns and their data types as well as non-values are present in which columns."
   ]
  },
  {
   "cell_type": "code",
   "execution_count": 4,
   "id": "e3d0400e-e1e1-4148-82bb-b00c3ac62870",
   "metadata": {},
   "outputs": [
    {
     "name": "stdout",
     "output_type": "stream",
     "text": [
      "<class 'pandas.core.frame.DataFrame'>\n",
      "RangeIndex: 128976 entries, 0 to 128975\n",
      "Data columns (total 21 columns):\n",
      " #   Column              Non-Null Count   Dtype  \n",
      "---  ------              --------------   -----  \n",
      " 0   index               128976 non-null  int64  \n",
      " 1   Order ID            128976 non-null  object \n",
      " 2   Date                128976 non-null  object \n",
      " 3   Status              128976 non-null  object \n",
      " 4   Fulfilment          128976 non-null  object \n",
      " 5   Sales Channel       128976 non-null  object \n",
      " 6   ship-service-level  128976 non-null  object \n",
      " 7   Category            128976 non-null  object \n",
      " 8   Size                128976 non-null  object \n",
      " 9   Courier Status      128976 non-null  object \n",
      " 10  Qty                 128976 non-null  int64  \n",
      " 11  currency            121176 non-null  object \n",
      " 12  Amount              121176 non-null  float64\n",
      " 13  ship-city           128941 non-null  object \n",
      " 14  ship-state          128941 non-null  object \n",
      " 15  ship-postal-code    128941 non-null  float64\n",
      " 16  ship-country        128941 non-null  object \n",
      " 17  B2B                 128976 non-null  bool   \n",
      " 18  fulfilled-by        39263 non-null   object \n",
      " 19  New                 0 non-null       float64\n",
      " 20  PendingS            0 non-null       float64\n",
      "dtypes: bool(1), float64(4), int64(2), object(14)\n",
      "memory usage: 19.8+ MB\n"
     ]
    }
   ],
   "source": [
    "dt.info()"
   ]
  },
  {
   "cell_type": "markdown",
   "id": "ff54bc18-5d8a-47e1-9ed5-c146fecf3de0",
   "metadata": {},
   "source": [
    "# dt.shape\n",
    "\n",
    "To determine the dimensions of a DataFrame. It returns a tuple representing the number of rows and columns in the DataFrame, respectively."
   ]
  },
  {
   "cell_type": "code",
   "execution_count": 5,
   "id": "462e3fd6-71e9-4192-b2f0-a695cabf2003",
   "metadata": {},
   "outputs": [
    {
     "data": {
      "text/plain": [
       "(128976, 21)"
      ]
     },
     "execution_count": 5,
     "metadata": {},
     "output_type": "execute_result"
    }
   ],
   "source": [
    "dt.shape"
   ]
  },
  {
   "cell_type": "markdown",
   "id": "503dac10-5095-45cb-9774-c0676aa448eb",
   "metadata": {},
   "source": [
    "# dt.describe\n",
    "\n",
    "To generate descriptive statistics of a DataFrame. It summarizes the central tendency, dispersion, and shape of the dataset's distribution.\n",
    "\n",
    "For numerical data, the output includes:\n",
    "Count: The number of non-null values.\n",
    "Mean: The average value.\n",
    "std: The standard deviation.\n",
    "min: The minimum value.\n",
    "25%: The 25th percentile.\n",
    "50%: The median (50th percentile).\n",
    "75%: The 75th percentile.\n",
    "max: The maximum value.\n",
    "\n",
    "For object data (e.g., strings), the output includes:\n",
    "Count: The number of non-null values.\n",
    "Unique: The number of unique values.\n",
    "Top: The most frequent value.\n",
    "Freq: The frequency of the most frequent value.\n",
    "\n",
    "The method analyzes both numeric and object series, as well as DataFrame column sets of mixed data types. By default, it only describes numeric columns, but this behavior can be modified using the include and exclude parameters. "
   ]
  },
  {
   "cell_type": "code",
   "execution_count": 6,
   "id": "c7d73495-6bc6-4fe2-ad76-04beb6064915",
   "metadata": {},
   "outputs": [
    {
     "data": {
      "text/html": [
       "<div>\n",
       "<style scoped>\n",
       "    .dataframe tbody tr th:only-of-type {\n",
       "        vertical-align: middle;\n",
       "    }\n",
       "\n",
       "    .dataframe tbody tr th {\n",
       "        vertical-align: top;\n",
       "    }\n",
       "\n",
       "    .dataframe thead th {\n",
       "        text-align: right;\n",
       "    }\n",
       "</style>\n",
       "<table border=\"1\" class=\"dataframe\">\n",
       "  <thead>\n",
       "    <tr style=\"text-align: right;\">\n",
       "      <th></th>\n",
       "      <th>index</th>\n",
       "      <th>Qty</th>\n",
       "      <th>Amount</th>\n",
       "      <th>ship-postal-code</th>\n",
       "      <th>New</th>\n",
       "      <th>PendingS</th>\n",
       "    </tr>\n",
       "  </thead>\n",
       "  <tbody>\n",
       "    <tr>\n",
       "      <th>count</th>\n",
       "      <td>128976.000000</td>\n",
       "      <td>128976.000000</td>\n",
       "      <td>121176.000000</td>\n",
       "      <td>128941.000000</td>\n",
       "      <td>0.0</td>\n",
       "      <td>0.0</td>\n",
       "    </tr>\n",
       "    <tr>\n",
       "      <th>mean</th>\n",
       "      <td>64486.130427</td>\n",
       "      <td>0.904401</td>\n",
       "      <td>648.562176</td>\n",
       "      <td>463945.677744</td>\n",
       "      <td>NaN</td>\n",
       "      <td>NaN</td>\n",
       "    </tr>\n",
       "    <tr>\n",
       "      <th>std</th>\n",
       "      <td>37232.897832</td>\n",
       "      <td>0.313368</td>\n",
       "      <td>281.185041</td>\n",
       "      <td>191458.488954</td>\n",
       "      <td>NaN</td>\n",
       "      <td>NaN</td>\n",
       "    </tr>\n",
       "    <tr>\n",
       "      <th>min</th>\n",
       "      <td>0.000000</td>\n",
       "      <td>0.000000</td>\n",
       "      <td>0.000000</td>\n",
       "      <td>110001.000000</td>\n",
       "      <td>NaN</td>\n",
       "      <td>NaN</td>\n",
       "    </tr>\n",
       "    <tr>\n",
       "      <th>25%</th>\n",
       "      <td>32242.750000</td>\n",
       "      <td>1.000000</td>\n",
       "      <td>449.000000</td>\n",
       "      <td>382421.000000</td>\n",
       "      <td>NaN</td>\n",
       "      <td>NaN</td>\n",
       "    </tr>\n",
       "    <tr>\n",
       "      <th>50%</th>\n",
       "      <td>64486.500000</td>\n",
       "      <td>1.000000</td>\n",
       "      <td>605.000000</td>\n",
       "      <td>500033.000000</td>\n",
       "      <td>NaN</td>\n",
       "      <td>NaN</td>\n",
       "    </tr>\n",
       "    <tr>\n",
       "      <th>75%</th>\n",
       "      <td>96730.250000</td>\n",
       "      <td>1.000000</td>\n",
       "      <td>788.000000</td>\n",
       "      <td>600024.000000</td>\n",
       "      <td>NaN</td>\n",
       "      <td>NaN</td>\n",
       "    </tr>\n",
       "    <tr>\n",
       "      <th>max</th>\n",
       "      <td>128974.000000</td>\n",
       "      <td>15.000000</td>\n",
       "      <td>5584.000000</td>\n",
       "      <td>989898.000000</td>\n",
       "      <td>NaN</td>\n",
       "      <td>NaN</td>\n",
       "    </tr>\n",
       "  </tbody>\n",
       "</table>\n",
       "</div>"
      ],
      "text/plain": [
       "               index            Qty         Amount  ship-postal-code  New  \\\n",
       "count  128976.000000  128976.000000  121176.000000     128941.000000  0.0   \n",
       "mean    64486.130427       0.904401     648.562176     463945.677744  NaN   \n",
       "std     37232.897832       0.313368     281.185041     191458.488954  NaN   \n",
       "min         0.000000       0.000000       0.000000     110001.000000  NaN   \n",
       "25%     32242.750000       1.000000     449.000000     382421.000000  NaN   \n",
       "50%     64486.500000       1.000000     605.000000     500033.000000  NaN   \n",
       "75%     96730.250000       1.000000     788.000000     600024.000000  NaN   \n",
       "max    128974.000000      15.000000    5584.000000     989898.000000  NaN   \n",
       "\n",
       "       PendingS  \n",
       "count       0.0  \n",
       "mean        NaN  \n",
       "std         NaN  \n",
       "min         NaN  \n",
       "25%         NaN  \n",
       "50%         NaN  \n",
       "75%         NaN  \n",
       "max         NaN  "
      ]
     },
     "execution_count": 6,
     "metadata": {},
     "output_type": "execute_result"
    }
   ],
   "source": [
    "dt.describe()"
   ]
  },
  {
   "cell_type": "markdown",
   "id": "38ffcb31-819b-4dab-a6e0-764269c4b268",
   "metadata": {},
   "source": [
    "# dt.isnull().sum()\n",
    "\n",
    "Returns the number of missing values in the dataset."
   ]
  },
  {
   "cell_type": "code",
   "execution_count": 7,
   "id": "32ffffd5-36b6-46e2-a0cd-ebe37e834eeb",
   "metadata": {},
   "outputs": [
    {
     "data": {
      "text/plain": [
       "index                      0\n",
       "Order ID                   0\n",
       "Date                       0\n",
       "Status                     0\n",
       "Fulfilment                 0\n",
       "Sales Channel              0\n",
       "ship-service-level         0\n",
       "Category                   0\n",
       "Size                       0\n",
       "Courier Status             0\n",
       "Qty                        0\n",
       "currency                7800\n",
       "Amount                  7800\n",
       "ship-city                 35\n",
       "ship-state                35\n",
       "ship-postal-code          35\n",
       "ship-country              35\n",
       "B2B                        0\n",
       "fulfilled-by           89713\n",
       "New                   128976\n",
       "PendingS              128976\n",
       "dtype: int64"
      ]
     },
     "execution_count": 7,
     "metadata": {},
     "output_type": "execute_result"
    }
   ],
   "source": [
    "dt.isnull().sum()"
   ]
  },
  {
   "cell_type": "markdown",
   "id": "96b72936-fdc2-44d7-968e-4de9e7df63ea",
   "metadata": {},
   "source": [
    "# Data Cleaning"
   ]
  },
  {
   "cell_type": "code",
   "execution_count": 8,
   "id": "38a607fb-f577-4f59-8f4f-29f25c9c9517",
   "metadata": {},
   "outputs": [],
   "source": [
    "# Drop irrelevant and empty columns from the dataset\n",
    "dt_clean = dt.drop(columns = ['index', 'New', 'PendingS'])"
   ]
  },
  {
   "cell_type": "code",
   "execution_count": 9,
   "id": "da723d01-734a-4854-824f-16fdab06cd98",
   "metadata": {},
   "outputs": [],
   "source": [
    "# Convert 'Date' column to datetime format\n",
    "dt_clean['Date'] = pd.to_datetime(dt_clean['Date'], errors='coerce', format='%m-%d-%y')"
   ]
  },
  {
   "cell_type": "code",
   "execution_count": 10,
   "id": "051ea04f-23c5-4eb4-bd6b-290081798c39",
   "metadata": {},
   "outputs": [],
   "source": [
    "# Drop rows with missing Date or Amount (necessary for time-based and revenue analysis)\n",
    "dt_clean = dt_clean.dropna(subset=['Date', 'Amount'])"
   ]
  },
  {
   "cell_type": "code",
   "execution_count": 11,
   "id": "5d47b702-c04d-4f31-b7b4-8731be5959b7",
   "metadata": {},
   "outputs": [
    {
     "name": "stdout",
     "output_type": "stream",
     "text": [
      "<class 'pandas.core.frame.DataFrame'>\n",
      "Index: 69416 entries, 0 to 128975\n",
      "Data columns (total 18 columns):\n",
      " #   Column              Non-Null Count  Dtype         \n",
      "---  ------              --------------  -----         \n",
      " 0   Order ID            69416 non-null  object        \n",
      " 1   Date                69416 non-null  datetime64[ns]\n",
      " 2   Status              69416 non-null  object        \n",
      " 3   Fulfilment          69416 non-null  object        \n",
      " 4   Sales Channel       69416 non-null  object        \n",
      " 5   ship-service-level  69416 non-null  object        \n",
      " 6   Category            69416 non-null  object        \n",
      " 7   Size                69416 non-null  object        \n",
      " 8   Courier Status      69416 non-null  object        \n",
      " 9   Qty                 69416 non-null  int64         \n",
      " 10  currency            69416 non-null  object        \n",
      " 11  Amount              69416 non-null  float64       \n",
      " 12  ship-city           69401 non-null  object        \n",
      " 13  ship-state          69401 non-null  object        \n",
      " 14  ship-postal-code    69401 non-null  float64       \n",
      " 15  ship-country        69401 non-null  object        \n",
      " 16  B2B                 69416 non-null  bool          \n",
      " 17  fulfilled-by        23266 non-null  object        \n",
      "dtypes: bool(1), datetime64[ns](1), float64(2), int64(1), object(13)\n",
      "memory usage: 9.6+ MB\n"
     ]
    }
   ],
   "source": [
    "# Review the cleaned data\n",
    "dt_clean.info()"
   ]
  },
  {
   "cell_type": "code",
   "execution_count": 12,
   "id": "750ddbd8-daaf-47a5-9bce-1ab70ef331f9",
   "metadata": {},
   "outputs": [
    {
     "data": {
      "text/plain": [
       "(69416, 18)"
      ]
     },
     "execution_count": 12,
     "metadata": {},
     "output_type": "execute_result"
    }
   ],
   "source": [
    "dt_clean.shape"
   ]
  },
  {
   "cell_type": "markdown",
   "id": "ecedcb4e-bc21-4a15-984b-79eb03466505",
   "metadata": {},
   "source": [
    "# 1) Sales Overview\n",
    "\n",
    "Sort the data by Order Date (daily or monthly).\n",
    "\n",
    "Visualize total sales and quantity sold over time.\n",
    "\n",
    "Examine for seasonality or increases (for example, festival months and promotions)."
   ]
  },
  {
   "cell_type": "code",
   "execution_count": 13,
   "id": "efc41ce2-5e49-4b25-af9f-a3e48b589421",
   "metadata": {},
   "outputs": [],
   "source": [
    "# 'Date' to datetime format\n",
    "dt_clean['Date'] = pd.to_datetime(dt_clean['Date'], errors='coerce', format='%m-%d-%y')"
   ]
  },
  {
   "cell_type": "code",
   "execution_count": 14,
   "id": "37ec9d97-6491-4b61-bcf2-7661566e0741",
   "metadata": {},
   "outputs": [],
   "source": [
    "# Drop rows with missing values in 'Date' or 'Amount'\n",
    "dt_clean = dt_clean.dropna(subset=['Date', 'Amount'])"
   ]
  },
  {
   "cell_type": "code",
   "execution_count": 15,
   "id": "ce376427-ae3e-421a-afad-e9e48f62307e",
   "metadata": {},
   "outputs": [],
   "source": [
    "# Add a Month-Year column\n",
    "dt_clean['Month'] = dt_clean['Date'].dt.to_period('M')"
   ]
  },
  {
   "cell_type": "code",
   "execution_count": 16,
   "id": "a3547926-9fe3-4fcc-aa9f-deff6f81ce9e",
   "metadata": {},
   "outputs": [],
   "source": [
    "# Group by month to get sales trends\n",
    "monthly_sales = dt_clean.groupby('Month').agg({'Amount': 'sum', 'Order ID': 'nunique', 'Qty': 'sum'}).reset_index()\n",
    "monthly_sales['Month'] = monthly_sales['Month'].astype(str)"
   ]
  },
  {
   "cell_type": "code",
   "execution_count": 18,
   "id": "446a5390-727a-4df8-a2a2-8413d11863a7",
   "metadata": {},
   "outputs": [
    {
     "name": "stdout",
     "output_type": "stream",
     "text": [
      "Total Orders: 64579\n",
      "Total Revenue (INR): 40538727.0\n",
      "Cancelled Orders: 5679\n"
     ]
    }
   ],
   "source": [
    "# Total Unique Orders\n",
    "total_orders = dt_clean['Order ID'].nunique()\n",
    "\n",
    "# Total Revenue (only where status indicates shipped/delivered)\n",
    "shipped_orders = dt_clean[dt_clean['Status'].str.contains('Shipped', case=False, na=False)]\n",
    "total_revenue = shipped_orders['Amount'].sum()\n",
    "\n",
    "# Cancelled Orders (where status indicates cancellation)\n",
    "cancelled_orders = dt_clean[dt_clean['Status'].str.contains('Cancelled', case=False, na=False)]['Order ID'].nunique()\n",
    "\n",
    "# Display the results\n",
    "print(\"Total Orders:\", total_orders)\n",
    "print(\"Total Revenue (INR):\", total_revenue)\n",
    "print(\"Cancelled Orders:\", cancelled_orders)"
   ]
  },
  {
   "cell_type": "code",
   "execution_count": null,
   "id": "d986fed6-73e0-4c4c-b08d-05a70fd64201",
   "metadata": {},
   "outputs": [],
   "source": [
    "# Plotting Sales Overview\n",
    "plt.figure(figsize=(14, 6))\n",
    "\n",
    "# Line plot for sales amount\n",
    "sns.lineplot(data=monthly_sales, x='Month', y='Amount', marker='o', label='Total Sales Amount', color='darkblue')\n",
    "\n",
    "# Bar plot for quantity sold\n",
    "ax2 = plt.twinx()  # Create a secondary y-axis\n",
    "sns.barplot(data=monthly_sales, x='Month', y='Qty', alpha=0.4, label='Total Quantity Sold', color='skyblue', ax=ax2)\n",
    "\n",
    "# Chart titles and labels\n",
    "plt.title('📈 Monthly Sales Performance Overview')\n",
    "plt.xlabel('Month')\n",
    "ax2.set_ylabel('Quantity Sold', color='skyblue')\n",
    "plt.ylabel('Sales Amount (₹)', color='darkblue')\n",
    "\n",
    "# Rotate x-axis labels\n",
    "plt.xticks(rotation=45)\n",
    "plt.grid(True)\n",
    "plt.tight_layout()\n",
    "plt.show()"
   ]
  },
  {
   "cell_type": "markdown",
   "id": "68d3b632-7445-4abf-be82-8ee7e66b3a01",
   "metadata": {},
   "source": [
    "# Conclusions\n",
    "\n",
    "Sales rises from March to April but from April to June there is quite decline and for high revenue months indicate effective marketing or seasonal buying. Also, high revenue months require advance inventory stocking.\n",
    "Months with low sales have to be checked for proper marketing and promotion of the item."
   ]
  },
  {
   "cell_type": "markdown",
   "id": "a39758b9-1c4d-4f5c-8f22-49396fcec849",
   "metadata": {},
   "source": [
    "# 2) Product Analysis"
   ]
  },
  {
   "cell_type": "code",
   "execution_count": null,
   "id": "79a63e74-407c-477c-bbed-69c27622a546",
   "metadata": {},
   "outputs": [],
   "source": [
    "# Set consistent style\n",
    "sns.set(style=\"whitegrid\")"
   ]
  },
  {
   "cell_type": "markdown",
   "id": "52083f41-4b9f-4ee0-8db2-b0cd58a3d3ec",
   "metadata": {},
   "source": [
    " ### a) Top Product Categories by Quantity Sold"
   ]
  },
  {
   "cell_type": "code",
   "execution_count": null,
   "id": "623ff63e-777a-48fa-9965-8db428ff7f08",
   "metadata": {},
   "outputs": [],
   "source": [
    "category_sales = dt_clean.groupby('Category')['Qty'].sum().sort_values(ascending=False).reset_index()"
   ]
  },
  {
   "cell_type": "code",
   "execution_count": null,
   "id": "ee77f11f-81e6-4397-b365-ffa925412d06",
   "metadata": {},
   "outputs": [],
   "source": [
    "plt.figure(figsize=(12, 6))\n",
    "sns.barplot(data=category_sales, x='Category', y='Qty', palette='Blues_d')\n",
    "plt.title('Top Product Categories by Quantity Sold')\n",
    "plt.xlabel('Product Category')\n",
    "plt.ylabel('Total Quantity Sold')\n",
    "plt.xticks(rotation=45)\n",
    "plt.tight_layout()\n",
    "plt.show()"
   ]
  },
  {
   "cell_type": "markdown",
   "id": "1f0146d6-0904-44cf-bb55-d1ed00fe89d9",
   "metadata": {},
   "source": [
    "The Graph above shows the top product categories sold in terms of quantity sold which infers that T-shirt are the most sold products and after T-shirts, Shirts are mostly sold and so on.\n",
    "The graph also clearly shows that T-shirts generate greater money than other products."
   ]
  },
  {
   "cell_type": "markdown",
   "id": "4856a75d-3670-4ba2-973b-928f13647bfd",
   "metadata": {},
   "source": [
    "### b) Size Distribution"
   ]
  },
  {
   "cell_type": "code",
   "execution_count": null,
   "id": "05c37b89-c73a-4335-b688-3a997f2920f5",
   "metadata": {},
   "outputs": [],
   "source": [
    "size_sales = dt_clean.groupby('Size')['Qty'].sum().sort_values(ascending=False).reset_index()"
   ]
  },
  {
   "cell_type": "code",
   "execution_count": null,
   "id": "a9b657b8-9c4b-4179-92e4-de4228a1c61b",
   "metadata": {},
   "outputs": [],
   "source": [
    "plt.figure(figsize=(10, 6))\n",
    "sns.barplot(data=size_sales, x='Size', y='Qty', palette='Purples_d')\n",
    "plt.title('Sales Distribution by Product Size')\n",
    "plt.xlabel('Product Size')\n",
    "plt.ylabel('Total Quantity Sold')\n",
    "plt.xticks(rotation=45)\n",
    "plt.tight_layout()\n",
    "plt.show()"
   ]
  },
  {
   "cell_type": "markdown",
   "id": "66f60fc0-976c-48f4-8f97-854d1a45573b",
   "metadata": {},
   "source": [
    "RESULT: From the graph it is clear that sizes M,L,XL are the top selling sizes whereas sizes larger than 3XL are sold in much smaller quantities.\n",
    "\n",
    "CONCLUSION: Most customers prefer L size and high demand of medium to large sizes so inventory of these sizes must be maintained."
   ]
  },
  {
   "cell_type": "code",
   "execution_count": null,
   "id": "c1399898-ebfe-4e0f-90d5-c842d38a842b",
   "metadata": {},
   "outputs": [],
   "source": [
    "dt_clean"
   ]
  },
  {
   "cell_type": "markdown",
   "id": "ddb4540a-9b57-4756-8fdb-ecb771ce35cf",
   "metadata": {},
   "source": [
    "# 3) Fulfillment Analysis"
   ]
  },
  {
   "cell_type": "markdown",
   "id": "b7b0465b-3048-4bf6-b760-842ebc995e47",
   "metadata": {},
   "source": [
    "### a) Fulfillment Method"
   ]
  },
  {
   "cell_type": "code",
   "execution_count": null,
   "id": "c32a87f9-3021-467e-8a5f-cf0d37c5683a",
   "metadata": {},
   "outputs": [],
   "source": [
    "# Count of orders by Fulfilment\n",
    "fulfillment_counts = dt_clean['Fulfilment'].value_counts().reset_index()\n",
    "fulfillment_counts.columns = ['Fulfilment Method', 'Number of Orders']"
   ]
  },
  {
   "cell_type": "code",
   "execution_count": null,
   "id": "158398b4-cbfd-4479-a04a-9acd96525770",
   "metadata": {},
   "outputs": [],
   "source": [
    "# Bar Chart\n",
    "plt.figure(figsize=(8, 5))\n",
    "sns.barplot(data=fulfillment_counts, x='Fulfilment Method', y='Number of Orders', palette='Set3')\n",
    "plt.title('Distribution of Fulfillment Methods')\n",
    "plt.ylabel('Number of Orders')\n",
    "plt.xlabel('Fulfillment Method')\n",
    "plt.tight_layout()\n",
    "plt.show()"
   ]
  },
  {
   "cell_type": "markdown",
   "id": "0c61000c-48f7-44cd-aa93-3197f2c51889",
   "metadata": {},
   "source": [
    "The graph above shows that Amazon has fulfilled more orders than the orders fulfilled by the merchant so we can say that amazon dominates with more orders fullfilled."
   ]
  },
  {
   "cell_type": "markdown",
   "id": "91826c25-8466-49a2-a464-a30437afe477",
   "metadata": {},
   "source": [
    "### b) Effectiveness by Order Status"
   ]
  },
  {
   "cell_type": "code",
   "execution_count": null,
   "id": "f6b34466-22a6-4ea9-8f62-e676334082fe",
   "metadata": {},
   "outputs": [],
   "source": [
    "# Crosstab between Fulfilment and Order Status\n",
    "fulfillment_status = pd.crosstab(dt_clean['Fulfilment'], dt_clean['Status'])"
   ]
  },
  {
   "cell_type": "code",
   "execution_count": null,
   "id": "927c5a2a-60d5-4544-9107-0b303f34a57f",
   "metadata": {},
   "outputs": [],
   "source": [
    "# Stacked bar chart\n",
    "fulfillment_status.plot(kind='bar', stacked=True, figsize=(10, 6), colormap='Set2')\n",
    "plt.title('Order Status by Fulfillment Method')\n",
    "plt.xlabel('Fulfillment Method')\n",
    "plt.ylabel('Number of Orders')\n",
    "plt.xticks(rotation=0)\n",
    "\n",
    "# Place legend outside the plot (right side)\n",
    "plt.legend(title='Order Status', bbox_to_anchor=(1.05, 1), loc='upper left')\n",
    "plt.tight_layout()\n",
    "plt.show()"
   ]
  },
  {
   "cell_type": "code",
   "execution_count": null,
   "id": "9effb274-c136-4122-9a04-82fc84b2e7ef",
   "metadata": {},
   "outputs": [],
   "source": [
    "# Clean and filter data (ensure essential fields are not missing)\n",
    "dt_clean = dt.dropna(subset=['Order ID', 'Fulfilment'])\n",
    "\n",
    "# Count the number of orders by fulfilment method\n",
    "fulfilment_counts = dt_clean['Fulfilment'].value_counts()\n",
    "\n",
    "# Display the result\n",
    "print(fulfilment_counts)"
   ]
  },
  {
   "cell_type": "markdown",
   "id": "09b06856-0c8c-49fe-8511-0a29e7785839",
   "metadata": {},
   "source": [
    "**Insights and Conclusions**\n",
    "\n",
    "Amazon has fulfilled more orders and higher revenue whereas higher return and cancelled orders when fulfilled by the merchant so most customers prefered that the order should be fulfilled by the amazon as it has higher completion rate. Other than this merchant performance must be monitor regularly."
   ]
  },
  {
   "cell_type": "markdown",
   "id": "8f93c69b-8328-4034-9bc1-814637d592a5",
   "metadata": {},
   "source": [
    "# 4) Customer Segmentation\n",
    "\n",
    "### a) Based on Buying Behaviour"
   ]
  },
  {
   "cell_type": "code",
   "execution_count": null,
   "id": "94d47921-f6f9-4936-a56c-09cd3ac90a23",
   "metadata": {},
   "outputs": [],
   "source": [
    "# Group by customer (based on 'ship-city' or equivalent column)\n",
    "customer_behavior = dt_clean.groupby('ship-service-level').agg({'Order ID': 'nunique', 'Amount': 'sum', 'Qty': 'sum'}).reset_index()"
   ]
  },
  {
   "cell_type": "code",
   "execution_count": null,
   "id": "60e2c7c7-53ef-4bbd-88d5-94bcf5c5d493",
   "metadata": {},
   "outputs": [],
   "source": [
    "# Rename columns for clarity\n",
    "customer_behavior.columns = ['ship-service-level', 'Total Orders', 'Total Spend (₹)', 'Total Quantity']\n",
    "\n",
    "# Sort by top spenders\n",
    "top_customers = customer_behavior.sort_values(by='Total Spend (₹)', ascending=False).head(10)"
   ]
  },
  {
   "cell_type": "code",
   "execution_count": null,
   "id": "4acc3448-de30-4625-8749-b40e15db8d19",
   "metadata": {},
   "outputs": [],
   "source": [
    "# Visualize\n",
    "plt.figure(figsize=(12, 6))\n",
    "sns.barplot(data=top_customers, x='ship-service-level', y='Total Spend (₹)', palette='magma')\n",
    "plt.title('Top 10 Customers by Ship service')\n",
    "plt.xticks(rotation=45)\n",
    "plt.tight_layout()\n",
    "plt.show()"
   ]
  },
  {
   "cell_type": "markdown",
   "id": "610da7f3-1ec2-489b-b4dd-a2eabe0ada10",
   "metadata": {},
   "source": [
    "### b) Based on Location Segment"
   ]
  },
  {
   "cell_type": "code",
   "execution_count": null,
   "id": "c98fa051-a408-4bc7-8517-07b9c147b431",
   "metadata": {},
   "outputs": [],
   "source": [
    "# Group by State and aggregate metrics\n",
    "state_segmentation = dt_clean.groupby('ship-state').agg({'Order ID': 'nunique', 'Amount': 'sum', 'Qty': 'sum'}).reset_index()"
   ]
  },
  {
   "cell_type": "code",
   "execution_count": null,
   "id": "9feb225f-83f6-4af7-a50d-7c1a6979764a",
   "metadata": {},
   "outputs": [],
   "source": [
    "state_segmentation.columns = ['State', 'Total Orders', 'Total Spend (₹)', 'Total Quantity']\n",
    "state_segmentation = state_segmentation.sort_values(by='Total Spend (₹)', ascending=False)"
   ]
  },
  {
   "cell_type": "code",
   "execution_count": null,
   "id": "e65e5252-f8c3-402d-af85-2219d2b077ab",
   "metadata": {},
   "outputs": [],
   "source": [
    "# Visualize top states\n",
    "plt.figure(figsize=(12, 6))\n",
    "sns.barplot(data=state_segmentation.head(10), x='State', y='Total Spend (₹)', palette='viridis')\n",
    "plt.title('Top 10 States by Customer Spend')\n",
    "plt.xticks(rotation=45)\n",
    "plt.tight_layout()\n",
    "plt.show()"
   ]
  },
  {
   "cell_type": "markdown",
   "id": "53b9ce88-9542-4a4a-a8dc-b0686e6e0152",
   "metadata": {},
   "source": [
    "**Conclusion**\n",
    "\n",
    "From the above graph it is clear that most of the customers are from Maharastra and Karnataka whereas less number of customers are from West Bengal, Andhra Pradesh and Haryana."
   ]
  },
  {
   "cell_type": "markdown",
   "id": "8c39f571-3d96-4738-9c7f-87ce7aacf253",
   "metadata": {},
   "source": [
    "# 5) Geographical Analysis\n",
    "\n",
    "### a) Grouping by States"
   ]
  },
  {
   "cell_type": "code",
   "execution_count": null,
   "id": "b84caaff-7330-428f-9325-4bc165acfc58",
   "metadata": {},
   "outputs": [],
   "source": [
    "# Group by State and aggregate metrics\n",
    "state_sales = dt_clean.groupby('ship-state').agg({'Order ID': 'nunique', 'Amount': 'sum', 'Qty': 'sum'}).reset_index().sort_values(by='Amount', ascending=False)"
   ]
  },
  {
   "cell_type": "code",
   "execution_count": null,
   "id": "8d4fc2df-0a58-4892-9858-f53fa84f39de",
   "metadata": {},
   "outputs": [],
   "source": [
    "# Plotting top 10 states by sales\n",
    "plt.figure(figsize=(12, 6))\n",
    "sns.barplot(data=state_sales.head(10), x='ship-state', y='Amount', palette='coolwarm')\n",
    "plt.title('Top 10 States by Total Sales Amount')\n",
    "plt.xlabel('State')\n",
    "plt.ylabel('Total Sales')\n",
    "plt.xticks(rotation=45)\n",
    "plt.tight_layout()\n",
    "plt.show()"
   ]
  },
  {
   "cell_type": "markdown",
   "id": "0948e26e-885f-4f7c-a19e-a27343302782",
   "metadata": {},
   "source": [
    "**Insights and Interpretation**\n",
    "\n",
    "Maharashtra, Karnataka, and Telengana are often top contributors to revenue.\n",
    "\n",
    "These states may benefit from localized marketing, warehouse stocking, or promotions."
   ]
  },
  {
   "cell_type": "markdown",
   "id": "0f5735d4-c31d-4879-ac93-ccea52ab2d54",
   "metadata": {},
   "source": [
    "### b) Grouping by Cities"
   ]
  },
  {
   "cell_type": "code",
   "execution_count": null,
   "id": "35e9c948-1cce-4959-8167-7d3fb780ad9c",
   "metadata": {},
   "outputs": [],
   "source": [
    "# Group by City and aggregate metrics\n",
    "city_sales = dt_clean.groupby('ship-city').agg({'Order ID': 'nunique', 'Amount': 'sum', 'Qty': 'sum'}).reset_index().sort_values(by='Amount', ascending=False)"
   ]
  },
  {
   "cell_type": "code",
   "execution_count": null,
   "id": "455fc3d0-46cb-402e-9473-1abf8aad0747",
   "metadata": {},
   "outputs": [],
   "source": [
    "# Plotting top 10 cities by sales\n",
    "plt.figure(figsize=(12, 6))\n",
    "sns.barplot(data=city_sales.head(10), x='ship-city', y='Amount', palette='Blues_d')\n",
    "plt.title('Top 10 Cities by Total Sales Amount')\n",
    "plt.xlabel('City')\n",
    "plt.ylabel('Total Sales')\n",
    "plt.xticks(rotation=45)\n",
    "plt.tight_layout()\n",
    "plt.show()"
   ]
  },
  {
   "cell_type": "markdown",
   "id": "c1a4e401-272c-447f-ab20-393901e2fe82",
   "metadata": {},
   "source": [
    "**Insights and Interpretation**\n",
    "\n",
    "Major metros like Bengaluru, Hyderabad, Mumbai and Delhi often dominate.\n",
    "\n",
    "Consider running geo-targeted ads or setting up fulfillment hubs in high-sales zones."
   ]
  },
  {
   "cell_type": "markdown",
   "id": "9cfc8f15-ad70-4611-8eb6-3f86e10d6487",
   "metadata": {},
   "source": [
    "**Conclusion**\n",
    "\n",
    "Geographic insights help optimize inventory, shipping, and regional sales campaigns.\n",
    "\n",
    "Focus efforts in high-performing regions while also identifying low-performing areas for growth potential."
   ]
  },
  {
   "cell_type": "markdown",
   "id": "cea38746-c708-487b-af09-eb96cebea0a4",
   "metadata": {},
   "source": [
    "# Business Insights\n",
    "\n",
    "Based on the data analysis, here are the key insights and actionable recommendations:\n",
    "\n",
    "## **Sales Performance Overview**\n",
    "\n",
    "* **Total Orders:** 64,579\n",
    "* **Total Revenue (Shipped Orders):** ₹4.05 Crores\n",
    "* **Cancelled Orders:** 5,679 (approx. 8.8%)\n",
    "\n",
    "**📌 Recommendation:**\n",
    "Investigate reasons behind cancellations. Focus on improving **order accuracy**, **payment success**, and **last-mile delivery** especially in high-cancel areas.\n",
    "\n",
    "---\n",
    "\n",
    "## **Product Insights**\n",
    "\n",
    "* **Top Selling Category:** T-shirts\n",
    "* Likely due to high demand in fashion/apparel, especially low-cost items.\n",
    "\n",
    "**📌 Recommendation:**\n",
    "Promote and stock more SKUs in this category. Use customer reviews and ratings to identify the best-performing T-shirt variants.\n",
    "\n",
    "---\n",
    "\n",
    "## **Fulfilment Effectiveness**\n",
    "\n",
    "* **Amazon Fulfilment:** 89,713 orders\n",
    "* **Merchant Fulfilment:** 39,263 orders\n",
    "\n",
    "**📌 Recommendation:**\n",
    "Amazon-fulfilled orders form the majority, suggesting better logistics or buyer preference. Encourage more sellers to shift to **Amazon FBA (Fulfilment by Amazon)** to reduce cancellation rates and delivery delays.\n",
    "\n",
    "---\n",
    "\n",
    "## **Geographical Demand**\n",
    "\n",
    "* **Top City:** Bengaluru\n",
    "* **Top State:** Maharashtra\n",
    "\n",
    "**📌 Recommendation:**\n",
    "Focus marketing efforts and logistics optimizations in these regions. They represent core demand hubs—ideal for **next-day delivery**, **targeted discounts**, and **region-specific inventory planning**.\n",
    "\n",
    "---\n",
    "\n",
    "Here is the **completed list of strategic recommendations** based on your Amazon sales data analysis:\n",
    "\n",
    "---\n",
    "\n",
    "## **Strategic Recommendations**\n",
    "\n",
    "\n",
    "\n",
    "#### 1. **Inventory Optimization**\n",
    "\n",
    "* **What to do:** Prioritize inventory stocking of high-demand products like T-shirts, especially in top-performing states (e.g., Maharashtra) and cities (e.g., Bengaluru).\n",
    "* **Why:** Ensures better product availability, reduces delivery time, and avoids stockouts.\n",
    "\n",
    "---\n",
    "\n",
    "#### 2. **Fulfilment Efficiency Enhancement**\n",
    "\n",
    "* **What to do:** Encourage more merchants to adopt **Fulfilled by Amazon (FBA)** services.\n",
    "* **Why:** Amazon-fulfilled orders show better performance, fewer cancellations, and faster delivery—enhancing customer satisfaction.\n",
    "\n",
    "---\n",
    "\n",
    "#### 3. **Order Cancellation Reduction**\n",
    "\n",
    "* **What to do:** Analyze top reasons for cancellations (e.g., delayed shipping, COD issues).\n",
    "                  Improve delivery promise accuracy and communication.\n",
    "                  Limit COD for risky regions or new users.\n",
    "* **Why:** Reducing cancellation rate (currently \\~8.8%) directly improves revenue and operational efficiency.\n",
    "\n",
    "---\n",
    "\n",
    "#### 4. **Targeted Marketing Campaigns**\n",
    "\n",
    "* **What to do:** Run localized and seasonal campaigns in top regions.\n",
    "                  Use email/SMS for cart abandonment recovery and re-engagement.\n",
    "* **Why:** Increases conversion rate and builds brand loyalty in regions with established demand.\n",
    "\n",
    "---\n",
    "\n",
    "#### 5. **Customer Segmentation & Personalization**\n",
    "\n",
    "* **What to do:** Group customers into segments (e.g., frequent buyers, high spenders, inactive users).\n",
    "                  Use these segments to offer tailored discounts or loyalty rewards.\n",
    "* **Why:** Personalization increases repeat purchases and customer lifetime value (CLTV).\n",
    "\n",
    "---\n",
    "\n",
    "#### 6. **Geographic Expansion Planning**\n",
    "\n",
    "* **What to do:** Identify underserved states/cities with growth potential and run pilot marketing or fulfillment tests there.\n",
    "* **Why:** Expanding into high-potential regions with low competition can drive new revenue streams.\n",
    "\n",
    "---\n",
    "\n",
    "#### 7. **Return & Refund Policy Optimization**\n",
    "\n",
    "* **What to do:** Analyze refund/return reasons and streamline the process with customer-friendly automation.\n",
    "* **Why:** Enhances trust and reduces support load, while also preserving revenue through fewer disputes.\n",
    "\n",
    "---\n",
    "\n",
    "#### 8. **Merchant Training & Standardization**\n",
    "\n",
    "* **What to do:** Provide onboarding, packaging, and shipping training to new or underperforming sellers.\n",
    "* **Why:** Improves delivery times and reduces bad reviews, benefiting the entire marketplace."
   ]
  }
 ],
 "metadata": {
  "kernelspec": {
   "display_name": "Python 3 (ipykernel)",
   "language": "python",
   "name": "python3"
  },
  "language_info": {
   "codemirror_mode": {
    "name": "ipython",
    "version": 3
   },
   "file_extension": ".py",
   "mimetype": "text/x-python",
   "name": "python",
   "nbconvert_exporter": "python",
   "pygments_lexer": "ipython3",
   "version": "3.11.7"
  }
 },
 "nbformat": 4,
 "nbformat_minor": 5
}
